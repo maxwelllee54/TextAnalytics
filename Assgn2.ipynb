{
 "cells": [
  {
   "cell_type": "markdown",
   "metadata": {
    "collapsed": true
   },
   "source": [
    "#### Data Preparation"
   ]
  },
  {
   "cell_type": "markdown",
   "metadata": {},
   "source": [
    "Using pandas to read data"
   ]
  },
  {
   "cell_type": "code",
   "execution_count": 1,
   "metadata": {},
   "outputs": [
    {
     "data": {
      "text/html": [
       "<div>\n",
       "<table border=\"1\" class=\"dataframe\">\n",
       "  <thead>\n",
       "    <tr style=\"text-align: right;\">\n",
       "      <th></th>\n",
       "      <th>year</th>\n",
       "      <th>season</th>\n",
       "      <th>brand</th>\n",
       "      <th>author of review</th>\n",
       "      <th>location</th>\n",
       "      <th>time</th>\n",
       "      <th>review text</th>\n",
       "    </tr>\n",
       "  </thead>\n",
       "  <tbody>\n",
       "    <tr>\n",
       "      <th>0</th>\n",
       "      <td>2016</td>\n",
       "      <td>Spring</td>\n",
       "      <td>A Dtacher</td>\n",
       "      <td>Kristin Anderson</td>\n",
       "      <td>NEW YORK</td>\n",
       "      <td>September 13, 2015</td>\n",
       "      <td>Detachment was the word of the day at A Dtache...</td>\n",
       "    </tr>\n",
       "    <tr>\n",
       "      <th>1</th>\n",
       "      <td>2016</td>\n",
       "      <td>Spring</td>\n",
       "      <td>A.F. Vandevorst</td>\n",
       "      <td>Luke Leitch</td>\n",
       "      <td>PARIS</td>\n",
       "      <td>October 1, 2015</td>\n",
       "      <td>You heard this collection coming long before y...</td>\n",
       "    </tr>\n",
       "    <tr>\n",
       "      <th>2</th>\n",
       "      <td>2016</td>\n",
       "      <td>Spring</td>\n",
       "      <td>A.L.C.</td>\n",
       "      <td>Kristin Anderson</td>\n",
       "      <td>NEW YORK</td>\n",
       "      <td>September 21, 2015</td>\n",
       "      <td>August saw the announcement of big news for A....</td>\n",
       "    </tr>\n",
       "    <tr>\n",
       "      <th>3</th>\n",
       "      <td>2016</td>\n",
       "      <td>Spring</td>\n",
       "      <td>A.P.C.</td>\n",
       "      <td>Nicole Phelps</td>\n",
       "      <td>PARIS</td>\n",
       "      <td>October 3, 2015</td>\n",
       "      <td>They call me the king of basics, Jean Touitou ...</td>\n",
       "    </tr>\n",
       "    <tr>\n",
       "      <th>4</th>\n",
       "      <td>2016</td>\n",
       "      <td>Spring</td>\n",
       "      <td>A.W.A.K.E.</td>\n",
       "      <td>Maya Singer</td>\n",
       "      <td>NEW YORK</td>\n",
       "      <td>October 21, 2015</td>\n",
       "      <td>Natalia Alaverdian is a designer with a lot of...</td>\n",
       "    </tr>\n",
       "  </tbody>\n",
       "</table>\n",
       "</div>"
      ],
      "text/plain": [
       "<div>\n",
       "<table border=\"1\" class=\"dataframe\">\n",
       "  <thead>\n",
       "    <tr style=\"text-align: right;\">\n",
       "      <th></th>\n",
       "      <th>year</th>\n",
       "      <th>season</th>\n",
       "      <th>brand</th>\n",
       "      <th>author of review</th>\n",
       "      <th>location</th>\n",
       "      <th>time</th>\n",
       "      <th>review text</th>\n",
       "    </tr>\n",
       "  </thead>\n",
       "  <tbody>\n",
       "    <tr>\n",
       "      <th>0</th>\n",
       "      <td>2016</td>\n",
       "      <td>Spring</td>\n",
       "      <td>A Dtacher</td>\n",
       "      <td>Kristin Anderson</td>\n",
       "      <td>NEW YORK</td>\n",
       "      <td>September 13, 2015</td>\n",
       "      <td>Detachment was the word of the day at A Dtache...</td>\n",
       "    </tr>\n",
       "    <tr>\n",
       "      <th>1</th>\n",
       "      <td>2016</td>\n",
       "      <td>Spring</td>\n",
       "      <td>A.F. Vandevorst</td>\n",
       "      <td>Luke Leitch</td>\n",
       "      <td>PARIS</td>\n",
       "      <td>October 1, 2015</td>\n",
       "      <td>You heard this collection coming long before y...</td>\n",
       "    </tr>\n",
       "    <tr>\n",
       "      <th>2</th>\n",
       "      <td>2016</td>\n",
       "      <td>Spring</td>\n",
       "      <td>A.L.C.</td>\n",
       "      <td>Kristin Anderson</td>\n",
       "      <td>NEW YORK</td>\n",
       "      <td>September 21, 2015</td>\n",
       "      <td>August saw the announcement of big news for A....</td>\n",
       "    </tr>\n",
       "    <tr>\n",
       "      <th>3</th>\n",
       "      <td>2016</td>\n",
       "      <td>Spring</td>\n",
       "      <td>A.P.C.</td>\n",
       "      <td>Nicole Phelps</td>\n",
       "      <td>PARIS</td>\n",
       "      <td>October 3, 2015</td>\n",
       "      <td>They call me the king of basics, Jean Touitou ...</td>\n",
       "    </tr>\n",
       "    <tr>\n",
       "      <th>4</th>\n",
       "      <td>2016</td>\n",
       "      <td>Spring</td>\n",
       "      <td>A.W.A.K.E.</td>\n",
       "      <td>Maya Singer</td>\n",
       "      <td>NEW YORK</td>\n",
       "      <td>October 21, 2015</td>\n",
       "      <td>Natalia Alaverdian is a designer with a lot of...</td>\n",
       "    </tr>\n",
       "  </tbody>\n",
       "</table>\n",
       "</div>"
      ]
     },
     "execution_count": 1,
     "metadata": {},
     "output_type": "execute_result"
    }
   ],
   "source": [
    "import pandas as pd\n",
    "\n",
    "df = pd.read_csv('fashion_data.csv')\n",
    "df.head()"
   ]
  },
  {
   "cell_type": "heading",
   "metadata": {},
   "level": 1,
   "source": [
    "Write a class function to process the dataframe by following steps:"
   ]
  },
  {
   "cell_type": "markdown",
   "metadata": {},
   "source": [
    "1. Use NLTK to tokenize text in the \"review text\" column\n",
    "2. Give the user options for \"bag-of-words\", \"bag-of-words with stemming and stop words removal\", \"POS with all nouns\" and \"POS with only NNP\" by customized functions\n",
    "3. Upon choosing the functions, add top 30 features to dataframe as new columns for further analysis and return a new dataframe"
   ]
  },
  {
   "cell_type": "code",
   "execution_count": 2,
   "metadata": {},
   "outputs": [],
   "source": [
    "import nltk\n",
    "import re\n",
    "class reviewAnalyzer():\n",
    "    def __init__(self, df, ngrams=2, top_features=30):\n",
    "        '''\n",
    "        \n",
    "        :param df: the original input data\n",
    "        :param ngrams: options for n-grams bag of words\n",
    "        :param top_features: options for number of top features returned\n",
    "        '''\n",
    "        \n",
    "        self.df = df\n",
    "        self.ngrams = ngrams\n",
    "        self.top_features = top_features\n",
    "    def simple_bags(self):\n",
    "        for ind in range(len(self.df)):\n",
    "            rawText = self.df.loc[ind, 'review text']\n",
    "            # Use regular expressions to get a pure letter text and transfer all words to lower case\n",
    "            letterText = re.sub('[^a-zA-Z]', ' ', rawText).lower()\n",
    "            token = nltk.word_tokenize(letterText, language='english')\n",
    "            text = []\n",
    "            for n in range(1, self.ngrams+1):\n",
    "                tempText = nltk.ngrams(token, n)\n",
    "                text.extend([' '.join(words).strip() for words in tempText])\n",
    "            \n",
    "            freq = nltk.FreqDist(text)\n",
    "            \n",
    "            \n",
    "            \n",
    "    \n",
    "    "
   ]
  },
  {
   "cell_type": "code",
   "execution_count": null,
   "metadata": {},
   "outputs": [],
   "source": [
    ""
   ]
  }
 ],
 "metadata": {
  "kernelspec": {
   "display_name": "Python 2",
   "language": "python",
   "name": "python2"
  },
  "language_info": {
   "codemirror_mode": {
    "name": "ipython",
    "version": 2.0
   },
   "file_extension": ".py",
   "mimetype": "text/x-python",
   "name": "python",
   "nbconvert_exporter": "python",
   "pygments_lexer": "ipython2",
   "version": "2.7.6"
  }
 },
 "nbformat": 4,
 "nbformat_minor": 0
}